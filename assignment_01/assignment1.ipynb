{
 "cells": [
  {
   "cell_type": "markdown",
   "metadata": {},
   "source": [
    "# ENSF 400 - Winter 2024 - Assignment 1"
   ]
  },
  {
   "cell_type": "markdown",
   "metadata": {},
   "source": [
    "## Question 1 (10 points)\n",
    "\n",
    "Define a class `Pet` and its two child classes: `Cat` and `Dog`. All classes have a method `getPetType` which can print \"Cat\" for `Cat` class and \"Dog\" for `Dog` class.\n",
    "\n",
    "### Hints\n",
    "\n",
    "Use `Subclass(Parentclass)` to define a child class.\n",
    "\n",
    "\n",
    "\n",
    "### Answer"
   ]
  },
  {
   "cell_type": "code",
   "execution_count": 2,
   "metadata": {},
   "outputs": [],
   "source": [
    "from abc import ABC , abstractmethod\n",
    "class Pet(ABC):\n",
    "    @abstractmethod\n",
    "    def getPetType(self):\n",
    "        pass\n",
    "\n",
    "class Cat(Pet):\n",
    "    def getPetType(self):\n",
    "        print(\"Cat\")\n",
    "\n",
    "class Dog(Pet):\n",
    "    def getPetType(self):\n",
    "        print(\"Dog\")"
   ]
  },
  {
   "cell_type": "markdown",
   "metadata": {},
   "source": [
    "## Question 2 (10 points)\n",
    "\n",
    "With a given list `[12,24,35,24,88,120,155,88,120,155]`, write a program to print this list after removing all duplicate values with original order reserved.\n",
    "\n",
    "### Hints\n",
    "\n",
    "Use set() to store a number of values without duplicate.\n",
    "\n",
    "### Answer"
   ]
  },
  {
   "cell_type": "code",
   "execution_count": 3,
   "metadata": {},
   "outputs": [
    {
     "name": "stdout",
     "output_type": "stream",
     "text": [
      "[24, 24, 120, 88, 155]\n"
     ]
    }
   ],
   "source": [
    "givenList = [12,24,35,24,88,120,155,88,120,155]\n",
    "elementsToGoThrough = set(givenList)\n",
    "\n",
    "for index, element in enumerate(givenList):\n",
    "    if element in elementsToGoThrough:\n",
    "        elementsToGoThrough.remove(element)\n",
    "    else:\n",
    "        givenList.pop(index)\n",
    "\n",
    "print(givenList)"
   ]
  },
  {
   "cell_type": "markdown",
   "metadata": {},
   "source": [
    "## Question 3 (20 points)\n",
    "\n",
    "A newly opened multinational brand has decided to base their company logo on the three most common characters in the company name. They are now trying out various combinations of company names and logos based on this condition. Given a string `S`, which is the company name in lowercase letters, your task is to find the top three most common characters in the string.\n",
    "\n",
    "- Print the three most common characters along with their occurrence count.\n",
    "- Sort in descending order of occurrence count.\n",
    "- If the occurrence count is the same, sort the characters in alphabetical order.\n",
    "\n",
    "For example, according to the conditions described above,\n",
    "\n",
    "GOOGLE would have it's logo with the letters G, O, E.\n",
    "\n",
    "### Input Format\n",
    "\n",
    "A single line of input containing the string `S`.\n",
    "\n",
    "### Constraints\n",
    "\n",
    "```\n",
    "3 < len(S) <= 10,000\n",
    "```\n",
    "\n",
    "### Output Format\n",
    "\n",
    "Print the three most common characters along with their occurrence count each on a separate line.\n",
    "Sort output in descending order of occurrence count.\n",
    "If the occurrence count is the same, sort the characters in alphabetical order.\n",
    "\n",
    "### Sample Input\n",
    "\n",
    "```\n",
    "aabbbccde\n",
    "```\n",
    "\n",
    "### Sample Output\n",
    "\n",
    "```\n",
    "b 3\n",
    "a 2\n",
    "c 2\n",
    "```\n",
    "\n",
    "### Explanation\n",
    "\n",
    "Here, *b* occurs  times. It is printed first.\n",
    "Both *a* and *c* occur  times. So, *a* is printed in the second line and *c* in the third line because *a* comes before *c* in the alphabet.\n",
    "\n",
    "**Note**: The string `S` has at least `3`  distinct characters.\n",
    "\n",
    "### Code Submission Template"
   ]
  },
  {
   "cell_type": "code",
   "execution_count": null,
   "metadata": {},
   "outputs": [],
   "source": [
    "import math\n",
    "import os\n",
    "import random\n",
    "import re\n",
    "import sys\n",
    "\n",
    "\n",
    "if __name__ == '__main__':\n",
    "    s = input()\n",
    "    # Write your answer below\n",
    "    pass"
   ]
  },
  {
   "cell_type": "markdown",
   "metadata": {},
   "source": [
    "## Question 4 (60 points)\n",
    "\n",
    "<font color=\"red\"> **NOTE: Answers to this question to be completed separately (not using Jupyter).** </font>\n",
    "\n",
    "The goal of this question is to get you familiarized with dockers. You will learn about how to dockerize any application by building a simple application container using dockers.\n",
    "\n",
    "### What is to be done?\n",
    "\n",
    "You will be building one container using `docker`. These containers can be built starting from an official base image. Search base images available from [Docker Hub](https://hub.docker.com/). Start from the image that is suitable for you.\n",
    "\n",
    "- Create a volume by name `servervol`.\n",
    "- The application container will mount `servervol` as `/serverdata` directory in container.\n",
    "- This container runs an application which will create a file with the name `random.txt` of with 100 random characters text data under `/serverdata`. Before creating this file, the application should first check if such file exists. If it does, then the application will first print out existing content, then re-write the file with new random text data and print out the new test data.\n",
    "- In other words, if running the appliation for the third time, it should first print out text data generated from the second time, and then generate new text data again and print the new data.\n",
    "- The application must be built using Python 3.7. But, the container should include all the packages that are required to run your application. Choose your base image by Python version and install only the necessary packages.\n",
    "\n",
    "The container should run its application by default (i.e, on run command). Mention in README as to what should be done to get into the container shell instead of running the applications by default (i.e, on run command).\n",
    "\n",
    "**NOTE**: You should be able to get into the shell of the container to physically check if the file `ramdom.txt` has been generated under the mounted directory `/serverdata`.\n",
    "\n",
    "### What to submit?\n",
    "\n",
    "- You will be submitting a package with everthing put in a directory called `assignment1`. Dockerfile is at the root of the `assignment1` directory. Python code should be named `text_gen.py` in the sub direcory `app` under `assignment1`.\n",
    "- As you go about doing the assignment, you will learn that there are multiple ways to create volumes. So submit a README file that expains what method you use.\n",
    "\n",
    "### Grading\n",
    "\n",
    "What is tested?\n",
    "\n",
    "- At the root of `assignment1` directory, run\n",
    "\n",
    "- ```bash\n",
    "  docker build -t assignment1 . \n",
    "  ```\n",
    "\n",
    "  It should build the image. The image can be found by command\n",
    "\n",
    "  ```bash\n",
    "  docker image ls\n",
    "  ```\n",
    "\n",
    "- Your documentation of creation of volumes will be tested and your container with application will be tested on running the application in container 3 times for random data generation logic by\n",
    "\n",
    "- ```\n",
    "  docker run -it -v servervol:/serverdata assignment1:latest\n",
    "  ```\n",
    "\n",
    "#### Grade Distribution\n",
    "\n",
    "- Build and run application container - 30 points\n",
    "- Python program to run the application logic - 20 points\n",
    "- README file - 10 points\n",
    "\n"
   ]
  },
  {
   "cell_type": "code",
   "execution_count": null,
   "metadata": {},
   "outputs": [],
   "source": []
  }
 ],
 "metadata": {
  "kernelspec": {
   "display_name": "Python 3 (ipykernel)",
   "language": "python",
   "name": "python3"
  },
  "language_info": {
   "codemirror_mode": {
    "name": "ipython",
    "version": 3
   },
   "file_extension": ".py",
   "mimetype": "text/x-python",
   "name": "python",
   "nbconvert_exporter": "python",
   "pygments_lexer": "ipython3",
   "version": "3.9.6"
  }
 },
 "nbformat": 4,
 "nbformat_minor": 4
}
